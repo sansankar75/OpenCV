{
 "cells": [
  {
   "cell_type": "code",
   "execution_count": 1,
   "id": "f6c979d9-6729-471e-a439-a5f99ec12080",
   "metadata": {},
   "outputs": [
    {
     "ename": "error",
     "evalue": "OpenCV(4.11.0) D:\\a\\opencv-python\\opencv-python\\opencv\\modules\\imgproc\\src\\resize.cpp:4208: error: (-215:Assertion failed) !ssize.empty() in function 'cv::resize'\n",
     "output_type": "error",
     "traceback": [
      "\u001b[1;31m---------------------------------------------------------------------------\u001b[0m",
      "\u001b[1;31merror\u001b[0m                                     Traceback (most recent call last)",
      "Cell \u001b[1;32mIn[1], line 13\u001b[0m\n\u001b[0;32m     11\u001b[0m \u001b[38;5;28;01mwhile\u001b[39;00m \u001b[38;5;28;01mTrue\u001b[39;00m:\n\u001b[0;32m     12\u001b[0m     success,img\u001b[38;5;241m=\u001b[39mcap\u001b[38;5;241m.\u001b[39mread()\n\u001b[1;32m---> 13\u001b[0m     img \u001b[38;5;241m=\u001b[39m cv2\u001b[38;5;241m.\u001b[39mresize(img, (\u001b[38;5;241m1000\u001b[39m, \u001b[38;5;241m600\u001b[39m))  \u001b[38;5;66;03m# Resize frame for better display\u001b[39;00m\n\u001b[0;32m     15\u001b[0m     \u001b[38;5;28;01mif\u001b[39;00m \u001b[38;5;129;01mnot\u001b[39;00m success:\n\u001b[0;32m     16\u001b[0m         \u001b[38;5;28;01mbreak\u001b[39;00m\n",
      "\u001b[1;31merror\u001b[0m: OpenCV(4.11.0) D:\\a\\opencv-python\\opencv-python\\opencv\\modules\\imgproc\\src\\resize.cpp:4208: error: (-215:Assertion failed) !ssize.empty() in function 'cv::resize'\n"
     ]
    }
   ],
   "source": [
    "import cv2\n",
    "import mediapipe as mp   #this package only use rgb so we need to convert into rgb before we provide image or video to package\n",
    "import time\n",
    "\n",
    "cap=cv2.VideoCapture(\"dancing_video.mp4\")\n",
    "mpPose=mp.solutions.pose\n",
    "pose=mpPose.Pose()\n",
    "mpDraw=mp.solutions.drawing_utils\n",
    "\n",
    "\n",
    "while True:\n",
    "    success,img=cap.read()\n",
    "    img = cv2.resize(img, (1000, 600))  # Resize frame for better display\n",
    "\n",
    "    if not success:\n",
    "        break\n",
    "        \n",
    "    \n",
    "    imgRGB=cv2.cvtColor(img,cv2.COLOR_BGR2RGB) #we convert into rgb for package \n",
    "    results=pose.process(imgRGB)  #its process the given image or video \n",
    "    \n",
    "    if results.pose_landmarks:\n",
    "        mpDraw.draw_landmarks(img,results.pose_landmarks,mpPose.POSE_CONNECTIONS)\n",
    "        for id,lm in enumerate(results.pose_landmarks.landmark):\n",
    "            h,w,c=img.shape #600,1000,3\n",
    "            cx,cy=int(lm.x*w),int(lm.y*h)   #we have location in image of video in float point but we want in integer so we do this to make integer\n",
    "            #          source,location,radius,color,filled the circle with same color\n",
    "            cv2.circle(img,(cx,cy),10,(255,0,0),cv2.FILLED)\n",
    "            \n",
    "            \n",
    "        \n",
    "    cv2.imshow(\"pose estimation\",img)\n",
    "    if cv2.waitKey(10) & 0xff == ord(\"q\"):\n",
    "        break\n",
    "cap.release()\n",
    "cv2.destroyAllWindows()"
   ]
  },
  {
   "cell_type": "code",
   "execution_count": null,
   "id": "d6db6479-99df-4b7a-a7b2-1091f92573b0",
   "metadata": {},
   "outputs": [],
   "source": []
  }
 ],
 "metadata": {
  "kernelspec": {
   "display_name": "Python 3 (ipykernel)",
   "language": "python",
   "name": "python3"
  },
  "language_info": {
   "codemirror_mode": {
    "name": "ipython",
    "version": 3
   },
   "file_extension": ".py",
   "mimetype": "text/x-python",
   "name": "python",
   "nbconvert_exporter": "python",
   "pygments_lexer": "ipython3",
   "version": "3.12.3"
  }
 },
 "nbformat": 4,
 "nbformat_minor": 5
}
