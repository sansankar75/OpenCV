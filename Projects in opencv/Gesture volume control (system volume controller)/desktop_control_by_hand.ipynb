{
 "cells": [
  {
   "cell_type": "code",
   "execution_count": null,
   "id": "15c5f6bd-60a9-47ff-ac4d-1d240c810858",
   "metadata": {},
   "outputs": [],
   "source": []
  },
  {
   "cell_type": "markdown",
   "id": "4dff6a61-5fe1-4928-8d94-7051ae050012",
   "metadata": {},
   "source": [
    "Here are common **desktop actions** and their names:  \n",
    "\n",
    "### **1. Window Management** 🖥️  \n",
    "- **Maximize Window** → Expands the active window (`Win + Up`)  \n",
    "- **Minimize Window** → Shrinks the active window (`Win + Down`)  \n",
    "- **Close Window** → Closes the active app (`Alt + F4`)  \n",
    "- **Restore Window** → Returns a maximized window to its previous size (`Win + Down`)  \n",
    "- **Switch Between Windows** → Moves between open apps (`Alt + Tab`)  \n",
    "\n",
    "---\n",
    "\n",
    "### **2. Tab & App Switching** 🔄  \n",
    "- **Switch Tabs in Browser** → Move between tabs (`Ctrl + Tab`)  \n",
    "- **Open New Tab** → Creates a new browser tab (`Ctrl + T`)  \n",
    "- **Close Current Tab** → Closes the active tab (`Ctrl + W`)  \n",
    "- **Reopen Closed Tab** → Restores the last closed tab (`Ctrl + Shift + T`)  \n",
    "- **Open Task Manager** → Shows running apps (`Ctrl + Shift + Esc`)  \n",
    "\n",
    "---\n",
    "\n",
    "### **3. Mouse & Cursor Actions** 🖱️  \n",
    "- **Move Cursor** → Moves the mouse pointer  \n",
    "- **Left Click** → Selects an item (Single tap or `Mouse Left Click`)  \n",
    "- **Right Click** → Opens context menu (`Mouse Right Click`)  \n",
    "- **Double Click** → Opens a file or app (`Mouse Double Click`)  \n",
    "- **Drag & Drop** → Moves files or icons (`Click + Hold + Move`)  \n",
    "- **Scroll Up/Down** → Moves through a page (`Mouse Scroll or Arrow Keys`)  \n",
    "\n",
    "---\n",
    "\n",
    "### **4. System & Navigation Controls** 🔧  \n",
    "- **Open Start Menu** → Access apps & settings (`Win Key`)  \n",
    "- **Search in Start Menu** → Finds files & apps (`Win + S`)  \n",
    "- **Open File Explorer** → Opens folders (`Win + E`)  \n",
    "- **Open Settings** → Opens system settings (`Win + I`)  \n",
    "- **Take Screenshot** → Captures the screen (`Win + PrtScn`)  \n",
    "- **Lock Screen** → Locks your PC (`Win + L`)  \n",
    "\n",
    "---\n",
    "\n",
    "### **5. Media & Volume Controls** 🎵  \n",
    "- **Play/Pause Music** → (`Spacebar` or `Media Play/Pause Key`)  \n",
    "- **Next/Previous Track** → (`Media Next/Previous Key`)  \n",
    "- **Increase/Decrease Volume** → (`Media Volume Up/Down Key`)  \n",
    "- **Mute/Unmute Sound** → (`Media Mute Key`)  \n",
    "\n",
    "---\n",
    "\n",
    "### **6. Virtual Desktop Actions** 🖥️➡️🖥️  \n",
    "- **Create New Desktop** → (`Win + Ctrl + D`)  \n",
    "- **Switch Between Desktops** → (`Win + Ctrl + Left/Right`)  \n",
    "- **Close Virtual Desktop** → (`Win + Ctrl + F4`)  \n",
    "\n",
    "---\n",
    "\n"
   ]
  }
 ],
 "metadata": {
  "kernelspec": {
   "display_name": "Python 3 (ipykernel)",
   "language": "python",
   "name": "python3"
  },
  "language_info": {
   "codemirror_mode": {
    "name": "ipython",
    "version": 3
   },
   "file_extension": ".py",
   "mimetype": "text/x-python",
   "name": "python",
   "nbconvert_exporter": "python",
   "pygments_lexer": "ipython3",
   "version": "3.12.3"
  }
 },
 "nbformat": 4,
 "nbformat_minor": 5
}
